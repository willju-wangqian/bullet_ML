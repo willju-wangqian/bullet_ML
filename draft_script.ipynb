{
 "cells": [
  {
   "cell_type": "code",
   "execution_count": 1,
   "id": "c01692bf",
   "metadata": {},
   "outputs": [],
   "source": [
    "import numpy as np"
   ]
  },
  {
   "cell_type": "code",
   "execution_count": 2,
   "id": "a9bae2ed",
   "metadata": {},
   "outputs": [],
   "source": [
    "pp = np.load(\"python_data/barrel_1_data.npy\")"
   ]
  },
  {
   "cell_type": "code",
   "execution_count": 6,
   "id": "fa81442b",
   "metadata": {},
   "outputs": [
    {
     "data": {
      "text/plain": [
       "array([[       nan,        nan,        nan, ..., -83.370667,        nan,\n",
       "        -83.288452],\n",
       "       [       nan,        nan,        nan, ..., -83.40329 ,        nan,\n",
       "               nan],\n",
       "       [       nan,        nan,        nan, ...,        nan,        nan,\n",
       "               nan],\n",
       "       ...,\n",
       "       [       nan,        nan,        nan, ..., -62.18996 , -62.291149,\n",
       "        -62.384243],\n",
       "       [       nan,        nan,        nan, ..., -62.392696, -62.383968,\n",
       "        -62.37698 ],\n",
       "       [       nan,        nan,        nan, ..., -62.503597, -62.483898,\n",
       "        -62.420986]])"
      ]
     },
     "execution_count": 6,
     "metadata": {},
     "output_type": "execute_result"
    }
   ],
   "source": [
    "pp[0, :, :]"
   ]
  },
  {
   "cell_type": "code",
   "execution_count": null,
   "id": "8aff9281",
   "metadata": {},
   "outputs": [],
   "source": []
  }
 ],
 "metadata": {
  "kernelspec": {
   "display_name": "Python 3 (ipykernel)",
   "language": "python",
   "name": "python3"
  },
  "language_info": {
   "codemirror_mode": {
    "name": "ipython",
    "version": 3
   },
   "file_extension": ".py",
   "mimetype": "text/x-python",
   "name": "python",
   "nbconvert_exporter": "python",
   "pygments_lexer": "ipython3",
   "version": "3.9.7"
  }
 },
 "nbformat": 4,
 "nbformat_minor": 5
}
